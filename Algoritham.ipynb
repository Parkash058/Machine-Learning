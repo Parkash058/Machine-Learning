{
 "cells": [
  {
   "cell_type": "markdown",
   "metadata": {},
   "source": [
    "# Welcome to Jupyter!"
   ]
  },
  {
   "cell_type": "code",
   "execution_count": 1,
   "metadata": {
    "scrolled": true
   },
   "outputs": [
    {
     "name": "stdout",
     "output_type": "stream",
     "text": [
      "Unsorted array\n",
      "[16, 23, 43, 1, 31, 8]\n",
      " \n",
      " \n",
      "Sorted array\n",
      "[1, 8, 16, 23, 31, 43]\n"
     ]
    }
   ],
   "source": [
    "def insertion_sort(array):\n",
    "\n",
    "    for i in range(1, len(array)):       \n",
    "\n",
    "        #current number to be compared\n",
    "\n",
    "        curNum = array [i]\n",
    "\n",
    "       #compare curNum with the sorted part of the array and insert curNum\n",
    "\n",
    "        while i>0 and array[i-1] > curNum:\n",
    "\n",
    "            array[i] = array[i-1]\n",
    "\n",
    "            i = i-1\n",
    "\n",
    "            array[i] = curNum\n",
    "\n",
    "array=[16,23,43,1,31,8]\n",
    "\n",
    "print('Unsorted array')\n",
    "\n",
    "print(array)\n",
    "\n",
    "print(' ')\n",
    "\n",
    "insertion_sort(array)\n",
    "print(' ')\n",
    "\n",
    "print('Sorted array')\n",
    "\n",
    "print(array)"
   ]
  },
  {
   "cell_type": "markdown",
   "metadata": {},
   "source": [
    "This repo contains an introduction to [Jupyter](https://jupyter.org) and [IPython](https://ipython.org).\n",
    "\n",
    "Outline of some basics:\n",
    "\n",
    "* [Notebook Basics](../examples/Notebook/Notebook%20Basics.ipynb)\n",
    "* [IPython - beyond plain python](../examples/IPython%20Kernel/Beyond%20Plain%20Python.ipynb)\n",
    "* [Markdown Cells](../examples/Notebook/Working%20With%20Markdown%20Cells.ipynb)\n",
    "* [Rich Display System](../examples/IPython%20Kernel/Rich%20Output.ipynb)\n",
    "* [Custom Display logic](../examples/IPython%20Kernel/Custom%20Display%20Logic.ipynb)\n",
    "* [Running a Secure Public Notebook Server](../examples/Notebook/Running%20the%20Notebook%20Server.ipynb#Securing-the-notebook-server)\n",
    "* [How Jupyter works](../examples/Notebook/Multiple%20Languages%2C%20Frontends.ipynb) to run code in different languages."
   ]
  },
  {
   "cell_type": "code",
   "execution_count": 2,
   "metadata": {},
   "outputs": [
    {
     "name": "stdout",
     "output_type": "stream",
     "text": [
      "Unsorted array\n",
      "[1, 0, 4, 2, 3, 5]\n",
      "Sorted array\n",
      "[0, 1, 2, 3, 4, 5]\n"
     ]
    }
   ],
   "source": [
    "def partition(array, low, high):\n",
    "\n",
    "    i = (low - 1)\n",
    "\n",
    "    pivot = array[high]\n",
    "\n",
    "    for j in range(low, high):\n",
    "\n",
    "        if array[j] <= pivot:\n",
    "\n",
    "            i += 1\n",
    "\n",
    "            array[i], array[j] = array[j], array[i]\n",
    "\n",
    "    array[i + 1], array[high] = array[high], array[i + 1]\n",
    "\n",
    "    return (i + 1)\n",
    "\n",
    "           \n",
    "\n",
    "def quick_sort(array, low, high):\n",
    "\n",
    "    if low < high:\n",
    "\n",
    "        partition_index  = partition(array, low, high)\n",
    "\n",
    "        quick_sort(array, low, partition_index  - 1)\n",
    "\n",
    "        quick_sort(array, partition_index  + 1, high)\n",
    "\n",
    " \n",
    "\n",
    "array = [1, 0, 4, 2, 3, 5]\n",
    "\n",
    "print('Unsorted array')\n",
    "\n",
    "print(array)\n",
    "\n",
    " \n",
    "\n",
    "low = 0\n",
    "\n",
    "high = len(array) - 1\n",
    "\n",
    "quick_sort(array, low, high)\n",
    "\n",
    " \n",
    "\n",
    "print('Sorted array')\n",
    "\n",
    "print(array)"
   ]
  },
  {
   "cell_type": "code",
   "execution_count": 3,
   "metadata": {},
   "outputs": [
    {
     "name": "stdout",
     "output_type": "stream",
     "text": [
      "Value 5 found at position 6 using linear search\n"
     ]
    }
   ],
   "source": [
    "def search_linear(array, target):\n",
    "\n",
    "    for i in range (len(array)):       \n",
    "\n",
    "        if (array[i] == target):\n",
    "\n",
    "            return i\n",
    "\n",
    "    return None\n",
    "\n",
    " \n",
    "\n",
    "target = 5\n",
    "\n",
    "array = [1, 0, 4, 2, 3, 5]\n",
    "\n",
    "result = search_linear(array, target)\n",
    "\n",
    "if result is not None:\n",
    "\n",
    "    print('Value {} found at position {} using linear search'.format(target, result+1))\n",
    "\n",
    "else:    print('Not found')"
   ]
  },
  {
   "cell_type": "markdown",
   "metadata": {},
   "source": [
    "You can also get this tutorial and run it on your laptop:\n",
    "\n",
    "    git clone https://github.com/ipython/ipython-in-depth\n",
    "\n",
    "Install IPython and Jupyter:\n",
    "\n",
    "with [conda](https://www.anaconda.com/download):\n",
    "\n",
    "    conda install ipython jupyter\n",
    "\n",
    "with pip:\n",
    "\n",
    "    # first, always upgrade pip!\n",
    "    pip install --upgrade pip\n",
    "    pip install --upgrade ipython jupyter\n",
    "\n",
    "Start the notebook in the tutorial directory:\n",
    "\n",
    "    cd ipython-in-depth\n",
    "    jupyter notebook"
   ]
  }
 ],
 "metadata": {
  "kernelspec": {
   "display_name": "Python 3",
   "language": "python",
   "name": "python3"
  },
  "language_info": {
   "codemirror_mode": {
    "name": "ipython",
    "version": 3
   },
   "file_extension": ".py",
   "mimetype": "text/x-python",
   "name": "python",
   "nbconvert_exporter": "python",
   "pygments_lexer": "ipython3",
   "version": "3.6.10"
  }
 },
 "nbformat": 4,
 "nbformat_minor": 2
}
